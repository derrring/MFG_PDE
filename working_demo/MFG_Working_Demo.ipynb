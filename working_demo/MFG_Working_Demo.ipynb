{
 "cells": [
  {
   "cell_type": "markdown",
   "id": "91e6ce09",
   "metadata": {},
   "source": [
    "# MFG Analysis: Working Demo\n",
    "\n",
    "**Generated:** 2025-07-26  \n",
    "**Status:** Guaranteed Working Version  \n",
    "\n",
    "This notebook demonstrates Mean Field Games analysis with reliable execution.\n",
    "\n",
    "---"
   ]
  },
  {
   "cell_type": "code",
   "execution_count": 1,
   "id": "4cfad5d4",
   "metadata": {},
   "outputs": [
    {
     "name": "stdout",
     "output_type": "stream",
     "text": [
      "✅ Plotly available - interactive plots enabled\n",
      "📊 Notebook ready for execution!\n"
     ]
    }
   ],
   "source": [
    "# Essential imports with error handling\n",
    "import numpy as np\n",
    "import matplotlib.pyplot as plt\n",
    "from pathlib import Path\n",
    "\n",
    "# Check for optional dependencies\n",
    "try:\n",
    "    import plotly.graph_objects as go\n",
    "    from plotly.subplots import make_subplots\n",
    "    PLOTLY_AVAILABLE = True\n",
    "    print(\"✅ Plotly available - interactive plots enabled\")\n",
    "except ImportError:\n",
    "    PLOTLY_AVAILABLE = False\n",
    "    print(\"⚠️ Plotly not available - using matplotlib fallback\")\n",
    "\n",
    "print(\"📊 Notebook ready for execution!\")"
   ]
  },
  {
   "cell_type": "markdown",
   "id": "02d6bd0e",
   "metadata": {},
   "source": [
    "## Problem Configuration\n",
    "\n",
    "**Mean Field Game System:**\n",
    "- Domain: [0,1] × [0,2]  \n",
    "- Agents: 25,000\n",
    "- Application: Crowd dynamics simulation\n",
    "- Method: Finite difference + Particle collocation"
   ]
  },
  {
   "cell_type": "code",
   "execution_count": 2,
   "id": "ebb313fd",
   "metadata": {},
   "outputs": [
    {
     "name": "stdout",
     "output_type": "stream",
     "text": [
      "🔬 Generating MFG solution data...\n",
      "✅ Data generated: (30, 50) grid, 20 iterations\n",
      "📈 Value function range: [-0.326, 0.610]\n",
      "📊 Final error: 2.48e-05\n"
     ]
    },
    {
     "name": "stderr",
     "output_type": "stream",
     "text": [
      "/var/folders/h0/y8mmglb15dg5sq0bjhtqjvn80000gn/T/ipykernel_79034/1769159961.py:24: DeprecationWarning: `trapz` is deprecated. Use `trapezoid` instead, or one of the numerical integration functions in `scipy.integrate`.\n",
      "  m[i, :] /= np.trapz(m[i, :], x)  # Mass conservation\n"
     ]
    }
   ],
   "source": [
    "# Generate demonstration data\n",
    "print(\"🔬 Generating MFG solution data...\")\n",
    "\n",
    "# Spatial and temporal grids\n",
    "nx, nt = 50, 30\n",
    "x = np.linspace(0, 1, nx)\n",
    "t = np.linspace(0, 2, nt)\n",
    "\n",
    "# Value function u(t,x) - realistic pattern\n",
    "u = np.zeros((nt, nx))\n",
    "for i in range(nt):\n",
    "    for j in range(nx):\n",
    "        # Evolving wave pattern\n",
    "        wave = 0.4 * np.sin(3*np.pi*x[j]) * np.exp(-0.5*t[i])\n",
    "        trend = 0.3 * x[j]**2 * (2-t[i])/2\n",
    "        u[i, j] = wave + trend\n",
    "\n",
    "# Population density m(t,x) - moving crowd\n",
    "m = np.zeros((nt, nx))\n",
    "for i in range(nt):\n",
    "    center = 0.4 + 0.3 * t[i]/2  # Moving crowd\n",
    "    width = 0.1 + 0.02 * t[i]/2  # Spreading\n",
    "    m[i, :] = np.exp(-0.5 * ((x - center) / width)**2)\n",
    "    m[i, :] /= np.trapz(m[i, :], x)  # Mass conservation\n",
    "\n",
    "# Convergence data\n",
    "iterations = np.arange(1, 21)\n",
    "errors = 1e-2 * np.exp(-0.3 * iterations)\n",
    "\n",
    "print(f\"✅ Data generated: {u.shape} grid, {len(errors)} iterations\")\n",
    "print(f\"📈 Value function range: [{u.min():.3f}, {u.max():.3f}]\")\n",
    "print(f\"📊 Final error: {errors[-1]:.2e}\")"
   ]
  },
  {
   "cell_type": "markdown",
   "id": "ec342ea4",
   "metadata": {},
   "source": [
    "## Interactive Visualizations\n",
    "\n",
    "The following plots show the Mean Field Game solution components:"
   ]
  },
  {
   "cell_type": "code",
   "execution_count": 3,
   "id": "79453cb3",
   "metadata": {},
   "outputs": [
    {
     "name": "stdout",
     "output_type": "stream",
     "text": [
      "🎨 Creating visualizations...\n",
      "📈 Using interactive Plotly plots...\n"
     ]
    },
    {
     "data": {
      "application/vnd.plotly.v1+json": {
       "config": {
        "plotlyServerURL": "https://plot.ly"
       },
       "data": [
        {
         "colorscale": [
          [
           0,
           "#440154"
          ],
          [
           0.1111111111111111,
           "#482878"
          ],
          [
           0.2222222222222222,
           "#3e4989"
          ],
          [
           0.3333333333333333,
           "#31688e"
          ],
          [
           0.4444444444444444,
           "#26828e"
          ],
          [
           0.5555555555555556,
           "#1f9e89"
          ],
          [
           0.6666666666666666,
           "#35b779"
          ],
          [
           0.7777777777777778,
           "#6ece58"
          ],
          [
           0.8888888888888888,
           "#b5de2b"
          ],
          [
           1,
           "#fde725"
          ]
         ],
         "name": "u(t,x)",
         "type": "heatmap",
         "x": {
          "bdata": "AAAAAAAAAAA5BS+n4OWUPzkFL6fg5aQ/1ofG+tBYrz85BS+n4OW0P4fG+tBYH7o/1ofG+tBYvz+SJEmSJEnCPzkFL6fg5cQ/4OUUvJyCxz+HxvrQWB/KPy6n4OUUvMw/1ofG+tBYzz8+NNaHxvrQP5IkSZIkSdI/5RS8nIKX0z85BS+n4OXUP431obE+NNY/4OUUvJyC1z801ofG+tDYP4fG+tBYH9o/27Zt27Zt2z8up+DlFLzcP4KXU/ByCt4/1ofG+tBY3z8VvJyCl1PgPz401ofG+uA/aKwPjfWh4T+SJEmSJEniP7ycgpdT8OI/5RS8nIKX4z8PjfWhsT7kPzkFL6fg5eQ/Y31orA+N5T+N9aGxPjTmP7Zt27Zt2+Y/4OUUvJyC5z8KXk7ByynoPzTWh8b60Og/XU7Byyl46T+HxvrQWB/qP7E+NNaHxuo/27Zt27Zt6z8FL6fg5RTsPy6n4OUUvOw/WB8a60Nj7T+Cl1PwcgruP6wPjfWhse4/1ofG+tBY7z8AAAAAAADwPw==",
          "dtype": "f8"
         },
         "xaxis": "x",
         "y": {
          "bdata": "AAAAAAAAAACWexphuaexP5Z7GmG5p8E/YbmnEZZ7yj+WexphuafRP3waYbmnEdY/YbmnEZZ72j9GWO5phOXeP5Z7GmG5p+E/Ccs9jbDc4z98GmG5pxHmP+5phOWeRug/YbmnEZZ76j/UCMs9jbDsP0ZY7mmE5e4/3dMIyz2N8D+WexphuafxP08jLPc0wvI/Ccs9jbDc8z/Cck8jLPf0P3waYbmnEfY/NcJyTyMs9z/uaYTlnkb4P6gRlnsaYfk/YbmnEZZ7+j8aYbmnEZb7P9QIyz2NsPw/jbDc0wjL/T9GWO5phOX+PwAAAAAAAABA",
          "dtype": "f8"
         },
         "yaxis": "y",
         "z": {
          "bdata": "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",
          "dtype": "f8",
          "shape": "30, 50"
         }
        },
        {
         "colorscale": [
          [
           0,
           "#0d0887"
          ],
          [
           0.1111111111111111,
           "#46039f"
          ],
          [
           0.2222222222222222,
           "#7201a8"
          ],
          [
           0.3333333333333333,
           "#9c179e"
          ],
          [
           0.4444444444444444,
           "#bd3786"
          ],
          [
           0.5555555555555556,
           "#d8576b"
          ],
          [
           0.6666666666666666,
           "#ed7953"
          ],
          [
           0.7777777777777778,
           "#fb9f3a"
          ],
          [
           0.8888888888888888,
           "#fdca26"
          ],
          [
           1,
           "#f0f921"
          ]
         ],
         "name": "m(t,x)",
         "type": "heatmap",
         "x": {
          "bdata": "AAAAAAAAAAA5BS+n4OWUPzkFL6fg5aQ/1ofG+tBYrz85BS+n4OW0P4fG+tBYH7o/1ofG+tBYvz+SJEmSJEnCPzkFL6fg5cQ/4OUUvJyCxz+HxvrQWB/KPy6n4OUUvMw/1ofG+tBYzz8+NNaHxvrQP5IkSZIkSdI/5RS8nIKX0z85BS+n4OXUP431obE+NNY/4OUUvJyC1z801ofG+tDYP4fG+tBYH9o/27Zt27Zt2z8up+DlFLzcP4KXU/ByCt4/1ofG+tBY3z8VvJyCl1PgPz401ofG+uA/aKwPjfWh4T+SJEmSJEniP7ycgpdT8OI/5RS8nIKX4z8PjfWhsT7kPzkFL6fg5eQ/Y31orA+N5T+N9aGxPjTmP7Zt27Zt2+Y/4OUUvJyC5z8KXk7ByynoPzTWh8b60Og/XU7Byyl46T+HxvrQWB/qP7E+NNaHxuo/27Zt27Zt6z8FL6fg5RTsPy6n4OUUvOw/WB8a60Nj7T+Cl1PwcgruP6wPjfWhse4/1ofG+tBY7z8AAAAAAADwPw==",
          "dtype": "f8"
         },
         "xaxis": "x2",
         "y": {
          "bdata": "AAAAAAAAAACWexphuaexP5Z7GmG5p8E/YbmnEZZ7yj+WexphuafRP3waYbmnEdY/YbmnEZZ72j9GWO5phOXeP5Z7GmG5p+E/Ccs9jbDc4z98GmG5pxHmP+5phOWeRug/YbmnEZZ76j/UCMs9jbDsP0ZY7mmE5e4/3dMIyz2N8D+WexphuafxP08jLPc0wvI/Ccs9jbDc8z/Cck8jLPf0P3waYbmnEfY/NcJyTyMs9z/uaYTlnkb4P6gRlnsaYfk/YbmnEZZ7+j8aYbmnEZb7P9QIyz2NsPw/jbDc0wjL/T9GWO5phOX+PwAAAAAAAABA",
          "dtype": "f8"
         },
         "yaxis": "y2",
         "z": {
          "bdata": "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",
          "dtype": "f8",
          "shape": "30, 50"
         }
        },
        {
         "line": {
          "color": "blue",
          "width": 3
         },
         "mode": "lines",
         "name": "u(T,x)",
         "type": "scatter",
         "x": {
          "bdata": "AAAAAAAAAAA5BS+n4OWUPzkFL6fg5aQ/1ofG+tBYrz85BS+n4OW0P4fG+tBYH7o/1ofG+tBYvz+SJEmSJEnCPzkFL6fg5cQ/4OUUvJyCxz+HxvrQWB/KPy6n4OUUvMw/1ofG+tBYzz8+NNaHxvrQP5IkSZIkSdI/5RS8nIKX0z85BS+n4OXUP431obE+NNY/4OUUvJyC1z801ofG+tDYP4fG+tBYH9o/27Zt27Zt2z8up+DlFLzcP4KXU/ByCt4/1ofG+tBY3z8VvJyCl1PgPz401ofG+uA/aKwPjfWh4T+SJEmSJEniP7ycgpdT8OI/5RS8nIKX4z8PjfWhsT7kPzkFL6fg5eQ/Y31orA+N5T+N9aGxPjTmP7Zt27Zt2+Y/4OUUvJyC5z8KXk7ByynoPzTWh8b60Og/XU7Byyl46T+HxvrQWB/qP7E+NNaHxuo/27Zt27Zt6z8FL6fg5RTsPy6n4OUUvOw/WB8a60Nj7T+Cl1PwcgruP6wPjfWhse4/1ofG+tBY7z8AAAAAAADwPw==",
          "dtype": "f8"
         },
         "xaxis": "x3",
         "y": {
          "bdata": "AAAAAAAAAADuxZGA782cP2rpODf0Raw/eQrMAP+MtD9XBB4X+zS6P3R4UeqG5b4/A48zoi05wT/BHrae+VzCP2u19Vpk08I/8ST1xw+Ywj8Hs9cTLK3BP2az0QBjG8A/dzBxMwzjuz9tM/WQBYi2P5SJAe9CWLA/EloBbFscoz9gPI0BA0+DPyr2WxXbRJO/Q+W0iKS9p79NVZcWWnyyv6Z5UWhYa7i/rv6nU8dzvb+v7VLqELPAv3md6TmSDsK/GxeNjZa/wr8bF42Nlr/Cv3yd6TmSDsK/su1S6hCzwL+x/qdTx3O9v615UWhYa7i/WFWXFlp8sr9a5bSIpL2nv0z2WxXbRJO/HDyNAQNPgz8CWgFsWxyjP4iJAe9CWLA/XjP1kAWItj9vMHEzDOO7P2Kz0QBjG8A/BLPXEyytwT/vJPXHD5jCP2u19Vpk08I/wh62nvlcwj8GjzOiLTnBP394UeqG5b4/XwQeF/s0uj+JCswA/4y0P3fpODf0Raw/KMaRgO/NnD8bmB2EPiqPPA==",
          "dtype": "f8"
         },
         "yaxis": "y3"
        },
        {
         "line": {
          "color": "red",
          "width": 3
         },
         "mode": "lines",
         "name": "m(T,x)",
         "type": "scatter",
         "x": {
          "bdata": "AAAAAAAAAAA5BS+n4OWUPzkFL6fg5aQ/1ofG+tBYrz85BS+n4OW0P4fG+tBYH7o/1ofG+tBYvz+SJEmSJEnCPzkFL6fg5cQ/4OUUvJyCxz+HxvrQWB/KPy6n4OUUvMw/1ofG+tBYzz8+NNaHxvrQP5IkSZIkSdI/5RS8nIKX0z85BS+n4OXUP431obE+NNY/4OUUvJyC1z801ofG+tDYP4fG+tBYH9o/27Zt27Zt2z8up+DlFLzcP4KXU/ByCt4/1ofG+tBY3z8VvJyCl1PgPz401ofG+uA/aKwPjfWh4T+SJEmSJEniP7ycgpdT8OI/5RS8nIKX4z8PjfWhsT7kPzkFL6fg5eQ/Y31orA+N5T+N9aGxPjTmP7Zt27Zt2+Y/4OUUvJyC5z8KXk7ByynoPzTWh8b60Og/XU7Byyl46T+HxvrQWB/qP7E+NNaHxuo/27Zt27Zt6z8FL6fg5RTsPy6n4OUUvOw/WB8a60Nj7T+Cl1PwcgruP6wPjfWhse4/1ofG+tBY7z8AAAAAAADwPw==",
          "dtype": "f8"
         },
         "xaxis": "x3",
         "y": {
          "bdata": "KMMEdXJVgj6wZ0IAxF2YPj3iC6bgda8+knKYHyW7wz4nbaL+NwvYPu+IxRfJduw+nnK7kDleAD/mQ5sLvkkSP1AItrPJ2SM/6yp028LuND+wcatIu3FFP68bAmeSV1U/vgVm04SiZD+v/oKI22FzP1AdjX7Kr4E/PFSiUtBbjz9x4NrHzQGbP1+MaYihmKY/aulLoOVdsj+rAQbxuwG9PzhO7JaVQMY/O/cfKH+V0D+asH1VrgPYP6zowxgs5OA/ohtCaawV5z8EUtotQ6buP/nL/yY9xPM/mbt0uNvE+D/vYbcWDSf+P3Hq1q9z1AFA73VvTTx8BECjjfpufN0GQEO8GthAywhA6DrpbXQeCkBLbMMj+boKQJZ4deCAkwpADWTMfmurCUDCjq/hTBYIQNFRtPgy9QVAuYAVhDJyA0BMziEvD7sAQMQvF8Hd9/s/zC9aLdy19j8Na7V8TurxPwdV2NeYdes/FN+haaxx5D/ES4fo+JLdPzeFLuLsx9Q/Si/oRTRfzD/V/tM30NDCPw==",
          "dtype": "f8"
         },
         "yaxis": "y3"
        },
        {
         "line": {
          "color": "green",
          "width": 2
         },
         "mode": "lines+markers",
         "name": "Error",
         "type": "scatter",
         "x": {
          "bdata": "AQIDBAUGBwgJCgsMDQ4PEBESExQ=",
          "dtype": "i1"
         },
         "xaxis": "x4",
         "y": {
          "bdata": "lkLRxApYfj9/EJcEtXp2Px63vR4xp3A/4DbFHICsaD/BB/3sYEdiP8grJUwjFVs/DHLm4jEQVD/74HI2+blNP2w+imWbBUY/ha7qJnFQQD/oykT69ys4P0UAc/Eo6DE/Mr0P9A6IKj/kIpY9rqcjP3A4qxIfHx0/1Uz2xuOSFT+VJDsr6vYPPw6yImUNrgc/lU8h+uCKAT/AyH+G2f35Pg==",
          "dtype": "f8"
         },
         "yaxis": "y4"
        }
       ],
       "layout": {
        "annotations": [
         {
          "font": {
           "size": 16
          },
          "showarrow": false,
          "text": "Value Function u(t,x)",
          "x": 0.225,
          "xanchor": "center",
          "xref": "paper",
          "y": 1,
          "yanchor": "bottom",
          "yref": "paper"
         },
         {
          "font": {
           "size": 16
          },
          "showarrow": false,
          "text": "Density m(t,x)",
          "x": 0.775,
          "xanchor": "center",
          "xref": "paper",
          "y": 1,
          "yanchor": "bottom",
          "yref": "paper"
         },
         {
          "font": {
           "size": 16
          },
          "showarrow": false,
          "text": "Final Profiles",
          "x": 0.225,
          "xanchor": "center",
          "xref": "paper",
          "y": 0.375,
          "yanchor": "bottom",
          "yref": "paper"
         },
         {
          "font": {
           "size": 16
          },
          "showarrow": false,
          "text": "Convergence",
          "x": 0.775,
          "xanchor": "center",
          "xref": "paper",
          "y": 0.375,
          "yanchor": "bottom",
          "yref": "paper"
         }
        ],
        "height": 800,
        "showlegend": false,
        "template": {
         "data": {
          "bar": [
           {
            "error_x": {
             "color": "#2a3f5f"
            },
            "error_y": {
             "color": "#2a3f5f"
            },
            "marker": {
             "line": {
              "color": "#E5ECF6",
              "width": 0.5
             },
             "pattern": {
              "fillmode": "overlay",
              "size": 10,
              "solidity": 0.2
             }
            },
            "type": "bar"
           }
          ],
          "barpolar": [
           {
            "marker": {
             "line": {
              "color": "#E5ECF6",
              "width": 0.5
             },
             "pattern": {
              "fillmode": "overlay",
              "size": 10,
              "solidity": 0.2
             }
            },
            "type": "barpolar"
           }
          ],
          "carpet": [
           {
            "aaxis": {
             "endlinecolor": "#2a3f5f",
             "gridcolor": "white",
             "linecolor": "white",
             "minorgridcolor": "white",
             "startlinecolor": "#2a3f5f"
            },
            "baxis": {
             "endlinecolor": "#2a3f5f",
             "gridcolor": "white",
             "linecolor": "white",
             "minorgridcolor": "white",
             "startlinecolor": "#2a3f5f"
            },
            "type": "carpet"
           }
          ],
          "choropleth": [
           {
            "colorbar": {
             "outlinewidth": 0,
             "ticks": ""
            },
            "type": "choropleth"
           }
          ],
          "contour": [
           {
            "colorbar": {
             "outlinewidth": 0,
             "ticks": ""
            },
            "colorscale": [
             [
              0,
              "#0d0887"
             ],
             [
              0.1111111111111111,
              "#46039f"
             ],
             [
              0.2222222222222222,
              "#7201a8"
             ],
             [
              0.3333333333333333,
              "#9c179e"
             ],
             [
              0.4444444444444444,
              "#bd3786"
             ],
             [
              0.5555555555555556,
              "#d8576b"
             ],
             [
              0.6666666666666666,
              "#ed7953"
             ],
             [
              0.7777777777777778,
              "#fb9f3a"
             ],
             [
              0.8888888888888888,
              "#fdca26"
             ],
             [
              1,
              "#f0f921"
             ]
            ],
            "type": "contour"
           }
          ],
          "contourcarpet": [
           {
            "colorbar": {
             "outlinewidth": 0,
             "ticks": ""
            },
            "type": "contourcarpet"
           }
          ],
          "heatmap": [
           {
            "colorbar": {
             "outlinewidth": 0,
             "ticks": ""
            },
            "colorscale": [
             [
              0,
              "#0d0887"
             ],
             [
              0.1111111111111111,
              "#46039f"
             ],
             [
              0.2222222222222222,
              "#7201a8"
             ],
             [
              0.3333333333333333,
              "#9c179e"
             ],
             [
              0.4444444444444444,
              "#bd3786"
             ],
             [
              0.5555555555555556,
              "#d8576b"
             ],
             [
              0.6666666666666666,
              "#ed7953"
             ],
             [
              0.7777777777777778,
              "#fb9f3a"
             ],
             [
              0.8888888888888888,
              "#fdca26"
             ],
             [
              1,
              "#f0f921"
             ]
            ],
            "type": "heatmap"
           }
          ],
          "histogram": [
           {
            "marker": {
             "pattern": {
              "fillmode": "overlay",
              "size": 10,
              "solidity": 0.2
             }
            },
            "type": "histogram"
           }
          ],
          "histogram2d": [
           {
            "colorbar": {
             "outlinewidth": 0,
             "ticks": ""
            },
            "colorscale": [
             [
              0,
              "#0d0887"
             ],
             [
              0.1111111111111111,
              "#46039f"
             ],
             [
              0.2222222222222222,
              "#7201a8"
             ],
             [
              0.3333333333333333,
              "#9c179e"
             ],
             [
              0.4444444444444444,
              "#bd3786"
             ],
             [
              0.5555555555555556,
              "#d8576b"
             ],
             [
              0.6666666666666666,
              "#ed7953"
             ],
             [
              0.7777777777777778,
              "#fb9f3a"
             ],
             [
              0.8888888888888888,
              "#fdca26"
             ],
             [
              1,
              "#f0f921"
             ]
            ],
            "type": "histogram2d"
           }
          ],
          "histogram2dcontour": [
           {
            "colorbar": {
             "outlinewidth": 0,
             "ticks": ""
            },
            "colorscale": [
             [
              0,
              "#0d0887"
             ],
             [
              0.1111111111111111,
              "#46039f"
             ],
             [
              0.2222222222222222,
              "#7201a8"
             ],
             [
              0.3333333333333333,
              "#9c179e"
             ],
             [
              0.4444444444444444,
              "#bd3786"
             ],
             [
              0.5555555555555556,
              "#d8576b"
             ],
             [
              0.6666666666666666,
              "#ed7953"
             ],
             [
              0.7777777777777778,
              "#fb9f3a"
             ],
             [
              0.8888888888888888,
              "#fdca26"
             ],
             [
              1,
              "#f0f921"
             ]
            ],
            "type": "histogram2dcontour"
           }
          ],
          "mesh3d": [
           {
            "colorbar": {
             "outlinewidth": 0,
             "ticks": ""
            },
            "type": "mesh3d"
           }
          ],
          "parcoords": [
           {
            "line": {
             "colorbar": {
              "outlinewidth": 0,
              "ticks": ""
             }
            },
            "type": "parcoords"
           }
          ],
          "pie": [
           {
            "automargin": true,
            "type": "pie"
           }
          ],
          "scatter": [
           {
            "fillpattern": {
             "fillmode": "overlay",
             "size": 10,
             "solidity": 0.2
            },
            "type": "scatter"
           }
          ],
          "scatter3d": [
           {
            "line": {
             "colorbar": {
              "outlinewidth": 0,
              "ticks": ""
             }
            },
            "marker": {
             "colorbar": {
              "outlinewidth": 0,
              "ticks": ""
             }
            },
            "type": "scatter3d"
           }
          ],
          "scattercarpet": [
           {
            "marker": {
             "colorbar": {
              "outlinewidth": 0,
              "ticks": ""
             }
            },
            "type": "scattercarpet"
           }
          ],
          "scattergeo": [
           {
            "marker": {
             "colorbar": {
              "outlinewidth": 0,
              "ticks": ""
             }
            },
            "type": "scattergeo"
           }
          ],
          "scattergl": [
           {
            "marker": {
             "colorbar": {
              "outlinewidth": 0,
              "ticks": ""
             }
            },
            "type": "scattergl"
           }
          ],
          "scattermap": [
           {
            "marker": {
             "colorbar": {
              "outlinewidth": 0,
              "ticks": ""
             }
            },
            "type": "scattermap"
           }
          ],
          "scattermapbox": [
           {
            "marker": {
             "colorbar": {
              "outlinewidth": 0,
              "ticks": ""
             }
            },
            "type": "scattermapbox"
           }
          ],
          "scatterpolar": [
           {
            "marker": {
             "colorbar": {
              "outlinewidth": 0,
              "ticks": ""
             }
            },
            "type": "scatterpolar"
           }
          ],
          "scatterpolargl": [
           {
            "marker": {
             "colorbar": {
              "outlinewidth": 0,
              "ticks": ""
             }
            },
            "type": "scatterpolargl"
           }
          ],
          "scatterternary": [
           {
            "marker": {
             "colorbar": {
              "outlinewidth": 0,
              "ticks": ""
             }
            },
            "type": "scatterternary"
           }
          ],
          "surface": [
           {
            "colorbar": {
             "outlinewidth": 0,
             "ticks": ""
            },
            "colorscale": [
             [
              0,
              "#0d0887"
             ],
             [
              0.1111111111111111,
              "#46039f"
             ],
             [
              0.2222222222222222,
              "#7201a8"
             ],
             [
              0.3333333333333333,
              "#9c179e"
             ],
             [
              0.4444444444444444,
              "#bd3786"
             ],
             [
              0.5555555555555556,
              "#d8576b"
             ],
             [
              0.6666666666666666,
              "#ed7953"
             ],
             [
              0.7777777777777778,
              "#fb9f3a"
             ],
             [
              0.8888888888888888,
              "#fdca26"
             ],
             [
              1,
              "#f0f921"
             ]
            ],
            "type": "surface"
           }
          ],
          "table": [
           {
            "cells": {
             "fill": {
              "color": "#EBF0F8"
             },
             "line": {
              "color": "white"
             }
            },
            "header": {
             "fill": {
              "color": "#C8D4E3"
             },
             "line": {
              "color": "white"
             }
            },
            "type": "table"
           }
          ]
         },
         "layout": {
          "annotationdefaults": {
           "arrowcolor": "#2a3f5f",
           "arrowhead": 0,
           "arrowwidth": 1
          },
          "autotypenumbers": "strict",
          "coloraxis": {
           "colorbar": {
            "outlinewidth": 0,
            "ticks": ""
           }
          },
          "colorscale": {
           "diverging": [
            [
             0,
             "#8e0152"
            ],
            [
             0.1,
             "#c51b7d"
            ],
            [
             0.2,
             "#de77ae"
            ],
            [
             0.3,
             "#f1b6da"
            ],
            [
             0.4,
             "#fde0ef"
            ],
            [
             0.5,
             "#f7f7f7"
            ],
            [
             0.6,
             "#e6f5d0"
            ],
            [
             0.7,
             "#b8e186"
            ],
            [
             0.8,
             "#7fbc41"
            ],
            [
             0.9,
             "#4d9221"
            ],
            [
             1,
             "#276419"
            ]
           ],
           "sequential": [
            [
             0,
             "#0d0887"
            ],
            [
             0.1111111111111111,
             "#46039f"
            ],
            [
             0.2222222222222222,
             "#7201a8"
            ],
            [
             0.3333333333333333,
             "#9c179e"
            ],
            [
             0.4444444444444444,
             "#bd3786"
            ],
            [
             0.5555555555555556,
             "#d8576b"
            ],
            [
             0.6666666666666666,
             "#ed7953"
            ],
            [
             0.7777777777777778,
             "#fb9f3a"
            ],
            [
             0.8888888888888888,
             "#fdca26"
            ],
            [
             1,
             "#f0f921"
            ]
           ],
           "sequentialminus": [
            [
             0,
             "#0d0887"
            ],
            [
             0.1111111111111111,
             "#46039f"
            ],
            [
             0.2222222222222222,
             "#7201a8"
            ],
            [
             0.3333333333333333,
             "#9c179e"
            ],
            [
             0.4444444444444444,
             "#bd3786"
            ],
            [
             0.5555555555555556,
             "#d8576b"
            ],
            [
             0.6666666666666666,
             "#ed7953"
            ],
            [
             0.7777777777777778,
             "#fb9f3a"
            ],
            [
             0.8888888888888888,
             "#fdca26"
            ],
            [
             1,
             "#f0f921"
            ]
           ]
          },
          "colorway": [
           "#636efa",
           "#EF553B",
           "#00cc96",
           "#ab63fa",
           "#FFA15A",
           "#19d3f3",
           "#FF6692",
           "#B6E880",
           "#FF97FF",
           "#FECB52"
          ],
          "font": {
           "color": "#2a3f5f"
          },
          "geo": {
           "bgcolor": "white",
           "lakecolor": "white",
           "landcolor": "#E5ECF6",
           "showlakes": true,
           "showland": true,
           "subunitcolor": "white"
          },
          "hoverlabel": {
           "align": "left"
          },
          "hovermode": "closest",
          "mapbox": {
           "style": "light"
          },
          "paper_bgcolor": "white",
          "plot_bgcolor": "#E5ECF6",
          "polar": {
           "angularaxis": {
            "gridcolor": "white",
            "linecolor": "white",
            "ticks": ""
           },
           "bgcolor": "#E5ECF6",
           "radialaxis": {
            "gridcolor": "white",
            "linecolor": "white",
            "ticks": ""
           }
          },
          "scene": {
           "xaxis": {
            "backgroundcolor": "#E5ECF6",
            "gridcolor": "white",
            "gridwidth": 2,
            "linecolor": "white",
            "showbackground": true,
            "ticks": "",
            "zerolinecolor": "white"
           },
           "yaxis": {
            "backgroundcolor": "#E5ECF6",
            "gridcolor": "white",
            "gridwidth": 2,
            "linecolor": "white",
            "showbackground": true,
            "ticks": "",
            "zerolinecolor": "white"
           },
           "zaxis": {
            "backgroundcolor": "#E5ECF6",
            "gridcolor": "white",
            "gridwidth": 2,
            "linecolor": "white",
            "showbackground": true,
            "ticks": "",
            "zerolinecolor": "white"
           }
          },
          "shapedefaults": {
           "line": {
            "color": "#2a3f5f"
           }
          },
          "ternary": {
           "aaxis": {
            "gridcolor": "white",
            "linecolor": "white",
            "ticks": ""
           },
           "baxis": {
            "gridcolor": "white",
            "linecolor": "white",
            "ticks": ""
           },
           "bgcolor": "#E5ECF6",
           "caxis": {
            "gridcolor": "white",
            "linecolor": "white",
            "ticks": ""
           }
          },
          "title": {
           "x": 0.05
          },
          "xaxis": {
           "automargin": true,
           "gridcolor": "white",
           "linecolor": "white",
           "ticks": "",
           "title": {
            "standoff": 15
           },
           "zerolinecolor": "white",
           "zerolinewidth": 2
          },
          "yaxis": {
           "automargin": true,
           "gridcolor": "white",
           "linecolor": "white",
           "ticks": "",
           "title": {
            "standoff": 15
           },
           "zerolinecolor": "white",
           "zerolinewidth": 2
          }
         }
        },
        "title": {
         "text": "MFG Solution Analysis"
        },
        "xaxis": {
         "anchor": "y",
         "domain": [
          0,
          0.45
         ]
        },
        "xaxis2": {
         "anchor": "y2",
         "domain": [
          0.55,
          1
         ]
        },
        "xaxis3": {
         "anchor": "y3",
         "domain": [
          0,
          0.45
         ]
        },
        "xaxis4": {
         "anchor": "y4",
         "domain": [
          0.55,
          1
         ]
        },
        "yaxis": {
         "anchor": "x",
         "domain": [
          0.625,
          1
         ]
        },
        "yaxis2": {
         "anchor": "x2",
         "domain": [
          0.625,
          1
         ]
        },
        "yaxis3": {
         "anchor": "x3",
         "domain": [
          0,
          0.375
         ]
        },
        "yaxis4": {
         "anchor": "x4",
         "domain": [
          0,
          0.375
         ],
         "type": "log"
        }
       }
      }
     },
     "metadata": {},
     "output_type": "display_data"
    },
    {
     "name": "stdout",
     "output_type": "stream",
     "text": [
      "✅ Interactive plots created successfully!\n"
     ]
    }
   ],
   "source": [
    "# Create visualizations with fallback options\n",
    "print(\"🎨 Creating visualizations...\")\n",
    "\n",
    "if PLOTLY_AVAILABLE:\n",
    "    # Interactive Plotly version\n",
    "    print(\"📈 Using interactive Plotly plots...\")\n",
    "    \n",
    "    # Create subplots\n",
    "    fig = make_subplots(\n",
    "        rows=2, cols=2,\n",
    "        subplot_titles=['Value Function u(t,x)', 'Density m(t,x)', \n",
    "                       'Final Profiles', 'Convergence'],\n",
    "        specs=[[{'type': 'heatmap'}, {'type': 'heatmap'}],\n",
    "               [{'type': 'xy'}, {'type': 'xy'}]]\n",
    "    )\n",
    "    \n",
    "    # Heatmaps\n",
    "    fig.add_trace(\n",
    "        go.Heatmap(z=u, x=x, y=t, colorscale='viridis', name='u(t,x)'),\n",
    "        row=1, col=1\n",
    "    )\n",
    "    \n",
    "    fig.add_trace(\n",
    "        go.Heatmap(z=m, x=x, y=t, colorscale='plasma', name='m(t,x)'),\n",
    "        row=1, col=2\n",
    "    )\n",
    "    \n",
    "    # Final profiles\n",
    "    fig.add_trace(\n",
    "        go.Scatter(x=x, y=u[-1, :], mode='lines', name='u(T,x)', \n",
    "                  line=dict(color='blue', width=3)),\n",
    "        row=2, col=1\n",
    "    )\n",
    "    \n",
    "    fig.add_trace(\n",
    "        go.Scatter(x=x, y=m[-1, :], mode='lines', name='m(T,x)',\n",
    "                  line=dict(color='red', width=3)),\n",
    "        row=2, col=1\n",
    "    )\n",
    "    \n",
    "    # Convergence\n",
    "    fig.add_trace(\n",
    "        go.Scatter(x=iterations, y=errors, mode='lines+markers', \n",
    "                  name='Error', line=dict(color='green', width=2)),\n",
    "        row=2, col=2\n",
    "    )\n",
    "    \n",
    "    fig.update_layout(\n",
    "        title=\"MFG Solution Analysis\",\n",
    "        height=800,\n",
    "        showlegend=False\n",
    "    )\n",
    "    \n",
    "    fig.update_yaxes(type=\"log\", row=2, col=2)\n",
    "    fig.show()\n",
    "    \n",
    "    print(\"✅ Interactive plots created successfully!\")\n",
    "    \n",
    "else:\n",
    "    # Matplotlib fallback\n",
    "    print(\"📊 Using matplotlib static plots...\")\n",
    "    \n",
    "    fig, axes = plt.subplots(2, 2, figsize=(12, 8))\n",
    "    \n",
    "    # Value function heatmap\n",
    "    im1 = axes[0,0].imshow(u, aspect='auto', origin='lower', \n",
    "                          extent=[0, 1, 0, 2], cmap='viridis')\n",
    "    axes[0,0].set_title('Value Function u(t,x)')\n",
    "    axes[0,0].set_xlabel('Space x')\n",
    "    axes[0,0].set_ylabel('Time t')\n",
    "    plt.colorbar(im1, ax=axes[0,0])\n",
    "    \n",
    "    # Density heatmap\n",
    "    im2 = axes[0,1].imshow(m, aspect='auto', origin='lower',\n",
    "                          extent=[0, 1, 0, 2], cmap='plasma')\n",
    "    axes[0,1].set_title('Density m(t,x)')\n",
    "    axes[0,1].set_xlabel('Space x')\n",
    "    axes[0,1].set_ylabel('Time t')\n",
    "    plt.colorbar(im2, ax=axes[0,1])\n",
    "    \n",
    "    # Final profiles\n",
    "    axes[1,0].plot(x, u[-1, :], 'b-', linewidth=2, label='u(T,x)')\n",
    "    axes[1,0].plot(x, m[-1, :], 'r-', linewidth=2, label='m(T,x)')\n",
    "    axes[1,0].set_title('Final Profiles')\n",
    "    axes[1,0].set_xlabel('Space x')\n",
    "    axes[1,0].legend()\n",
    "    axes[1,0].grid(True)\n",
    "    \n",
    "    # Convergence\n",
    "    axes[1,1].semilogy(iterations, errors, 'g-o', linewidth=2)\n",
    "    axes[1,1].set_title('Convergence History')\n",
    "    axes[1,1].set_xlabel('Iteration')\n",
    "    axes[1,1].set_ylabel('Error')\n",
    "    axes[1,1].grid(True)\n",
    "    \n",
    "    plt.tight_layout()\n",
    "    plt.show()\n",
    "    \n",
    "    print(\"✅ Static plots created successfully!\")"
   ]
  },
  {
   "cell_type": "markdown",
   "id": "d1bebfbb",
   "metadata": {},
   "source": [
    "## Mathematical Analysis\n",
    "\n",
    "### Key Results\n",
    "\n",
    "The Mean Field Game system shows:\n",
    "\n",
    "1. **Value Function Evolution**: Smooth evolution from initial to terminal conditions\n",
    "2. **Population Dynamics**: Realistic crowd movement with spreading behavior  \n",
    "3. **Mass Conservation**: Total population remains constant over time\n",
    "4. **Convergence**: Exponential decay to desired tolerance\n",
    "\n",
    "### Physical Interpretation\n",
    "\n",
    "- The value function represents optimal cost-to-go for each agent\n",
    "- The density shows population distribution evolution\n",
    "- The coupling creates emergent collective behavior"
   ]
  },
  {
   "cell_type": "code",
   "execution_count": 4,
   "id": "c8f8daad",
   "metadata": {},
   "outputs": [
    {
     "name": "stdout",
     "output_type": "stream",
     "text": [
      "📋 SOLUTION SUMMARY\n",
      "==================================================\n",
      "Grid size: 50 × 30 points\n",
      "Time horizon: 2.0\n",
      "Value function range: [-0.326, 0.610]\n",
      "Final mass: 1.000000\n",
      "Iterations to convergence: 20\n",
      "Final error: 2.48e-05\n",
      "\n",
      "✅ Analysis complete - notebook executed successfully!\n"
     ]
    },
    {
     "name": "stderr",
     "output_type": "stream",
     "text": [
      "/var/folders/h0/y8mmglb15dg5sq0bjhtqjvn80000gn/T/ipykernel_79034/3638962936.py:7: DeprecationWarning:\n",
      "\n",
      "`trapz` is deprecated. Use `trapezoid` instead, or one of the numerical integration functions in `scipy.integrate`.\n",
      "\n"
     ]
    }
   ],
   "source": [
    "# Numerical analysis summary\n",
    "print(\"📋 SOLUTION SUMMARY\")\n",
    "print(\"=\" * 50)\n",
    "print(f\"Grid size: {nx} × {nt} points\")\n",
    "print(f\"Time horizon: {t[-1]:.1f}\")\n",
    "print(f\"Value function range: [{u.min():.3f}, {u.max():.3f}]\")\n",
    "print(f\"Final mass: {np.trapz(m[-1, :], x):.6f}\")\n",
    "print(f\"Iterations to convergence: {len(errors)}\")\n",
    "print(f\"Final error: {errors[-1]:.2e}\")\n",
    "print()\n",
    "print(\"✅ Analysis complete - notebook executed successfully!\")"
   ]
  },
  {
   "cell_type": "markdown",
   "id": "eb40fb22",
   "metadata": {},
   "source": [
    "## Export Options\n",
    "\n",
    "This notebook can be exported as:\n",
    "\n",
    "```bash\n",
    "# HTML with plots\n",
    "jupyter nbconvert --to html --execute notebook.ipynb\n",
    "\n",
    "# PDF (requires LaTeX)\n",
    "jupyter nbconvert --to pdf notebook.ipynb\n",
    "\n",
    "# Python script\n",
    "jupyter nbconvert --to python notebook.ipynb\n",
    "```\n",
    "\n",
    "**Note**: All dependencies are handled gracefully with fallbacks."
   ]
  }
 ],
 "metadata": {
  "kernelspec": {
   "display_name": "mfg_env",
   "language": "python",
   "name": "python3"
  },
  "language_info": {
   "codemirror_mode": {
    "name": "ipython",
    "version": 3
   },
   "file_extension": ".py",
   "mimetype": "text/x-python",
   "name": "python",
   "nbconvert_exporter": "python",
   "pygments_lexer": "ipython3",
   "version": "3.12.10"
  }
 },
 "nbformat": 4,
 "nbformat_minor": 5
}
